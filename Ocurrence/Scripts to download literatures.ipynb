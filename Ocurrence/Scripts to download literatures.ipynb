{
 "cells": [
  {
   "cell_type": "markdown",
   "metadata": {},
   "source": [
    "# Scripts to download literatures automatically from Researchgate and academia.edu"
   ]
  },
  {
   "cell_type": "markdown",
   "metadata": {},
   "source": [
    "Install Required packages :  pip install Selenium pandas"
   ]
  },
  {
   "cell_type": "markdown",
   "metadata": {},
   "source": [
    "Selenium package (Salunke 2014), an automation testing tool. Webpage is generally identified by their distinct URL which user gives input to the browser. The elements of the webpage gets downloaded from the web servers where elements could be the HTML scripts/Java scripts/CSS scripts. The browser transfigure the elements into an interactive visual representation. Our goal is to identify the element which lead to download available literatures from provided URL. With our customised script that have been developed below using modules from selenium package to locate the elements sequentially where elements could be id attribute of elements, name attribute, class name or XPath which is the language used for locating nodes in an XML document. Locating elements by some of these attributes help us to download literatures from the specified links or in searching appropriate link to extract pdf online."
   ]
  },
  {
   "cell_type": "markdown",
   "metadata": {},
   "source": [
    "Note: In your browser setting, please set autodownload."
   ]
  },
  {
   "cell_type": "markdown",
   "metadata": {},
   "source": [
    "import libraries"
   ]
  },
  {
   "cell_type": "code",
   "execution_count": 1,
   "metadata": {},
   "outputs": [],
   "source": [
    "from selenium.webdriver.common.by import By\n",
    "from selenium.webdriver.support.ui import WebDriverWait\n",
    "from selenium.webdriver.support import expected_conditions as EC\n",
    "from selenium import webdriver\n",
    "from selenium.webdriver.common.keys import Keys\n",
    "from selenium.common.exceptions import NoSuchElementException\n",
    "from selenium import webdriver\n",
    "from selenium.webdriver.firefox.options import Options\n",
    "from selenium import webdriver\n",
    "from selenium.webdriver.common.action_chains import ActionChains\n",
    "from selenium.webdriver.chrome.options import Options\n",
    "from selenium.webdriver.common.by import By\n",
    "from selenium.common.exceptions import TimeoutException\n",
    "options = Options()\n"
   ]
  },
  {
   "cell_type": "code",
   "execution_count": 2,
   "metadata": {},
   "outputs": [
    {
     "data": {
      "text/plain": [
       "5991"
      ]
     },
     "execution_count": 2,
     "metadata": {},
     "output_type": "execute_result"
    }
   ],
   "source": [
    "# The 'all_pdf_list.csv' consist of List of titles of literatures.\n",
    "import pandas as pd\n",
    "data = pd.read_csv('all_pdf_list.csv') \n",
    "len(data)"
   ]
  },
  {
   "cell_type": "markdown",
   "metadata": {},
   "source": [
    "# Researchgate"
   ]
  },
  {
   "cell_type": "code",
   "execution_count": 3,
   "metadata": {},
   "outputs": [],
   "source": [
    "nopdf=[] # An empty list created to collect titles for which literatures are not available in website\n",
    "record=[] # record number of corresponding title\n",
    "for i in range(0,len(data)):\n",
    "    try:\n",
    "        download_dir=r'directory\\to\\download\\pdfs'\n",
    "        chrome_options = Options()\n",
    "        chrome_options.add_experimental_option('prefs',  {\n",
    "            \"download.default_directory\": download_dir,\n",
    "            \"download.prompt_for_download\": False,\n",
    "            \"download.directory_upgrade\": True,\n",
    "            \"plugins.always_open_pdf_externally\": True #It will not show PDF directly in chrome\n",
    "            }\n",
    "        )\n",
    "        driver = webdriver.Chrome(options=chrome_options)\n",
    "        driver.get(\"https://www.researchgate.net/\")\n",
    "        elem1=driver.find_element_by_link_text('Log in')\n",
    "        elem1.click()\n",
    "        elem2=driver.find_element_by_xpath(\"//input[@type='email']\")\n",
    "        elem2.send_keys('please@enter.youremail')\n",
    "        elem3=driver.find_element_by_xpath(\"//input[@type='password']\")\n",
    "        elem3.send_keys('password')\n",
    "        elem4=driver.find_element_by_xpath(\"//button[@type='submit']\")\n",
    "        elem4.submit()\n",
    "        elem5=driver.find_element_by_xpath(\"//input[@type='text']\")\n",
    "        elem5.send_keys(data['Title'][i])\n",
    "        elem6=driver.find_element_by_xpath(\"//button[@type='submit']\")\n",
    "        elem6.submit()\n",
    "        elem7=driver.find_element_by_xpath(\"//input[@type='text']\")\n",
    "        elem7.send_keys(data['Title'][i])\n",
    "        elem8=driver.find_element_by_xpath(\"//button[@type='submit']\")\n",
    "        elem8.submit()\n",
    "        elem9=driver.find_element_by_link_text(data['Title'][i])   \n",
    "        elem9.click()\n",
    "        elem10=WebDriverWait(driver, 15).until(EC.presence_of_element_located((By.XPATH, \"//div[@class='content-page-header__navigation--actions']/div\")))\n",
    "        elem10.click()\n",
    "        elem11= elem10.find_element_by_xpath(\"//div[@class='nova-legacy-l-flex__item']/a\")\n",
    "        elem12=driver.find_element_by_xpath(\"//a[@class='nova-legacy-c-button nova-legacy-c-button--align-center nova-legacy-c-button--radius-m nova-legacy-c-button--size-m nova-legacy-c-button--color-blue nova-legacy-c-button--theme-solid nova-legacy-c-button--width-auto']\")\n",
    "        elem12.click()\n",
    "    except NoSuchElementException:\n",
    "        #print(\"an exception occurred\", data['Title'][i])\n",
    "        nopdf.append(data['Title'][i])\n",
    "        record.append(data['Record No.'][i])\n",
    "        #print(i)\n",
    "    else:\n",
    "        #print('no pdf available')\n",
    "        nopdf.append(data['Title'][i])\n",
    "        record.append(data['Record No.'][i])\n"
   ]
  },
  {
   "cell_type": "code",
   "execution_count": 4,
   "metadata": {},
   "outputs": [],
   "source": [
    "data = pd.DataFrame({'Record No.':record, 'Title': nopdf})"
   ]
  },
  {
   "cell_type": "markdown",
   "metadata": {},
   "source": [
    "# Academia.edu"
   ]
  },
  {
   "cell_type": "code",
   "execution_count": 5,
   "metadata": {},
   "outputs": [],
   "source": [
    "nopdf=[]\n",
    "record=[]\n",
    "for j in range(0, len(data)):\n",
    "    try:\n",
    "        download_dir=r'directory\\to\\download\\pdfs'\n",
    "        chrome_options = Options()\n",
    "        chrome_options.add_experimental_option('prefs',  {\n",
    "            \"download.default_directory\": download_dir,\n",
    "            \"download.prompt_for_download\": False,\n",
    "            \"download.directory_upgrade\": True,\n",
    "            \"plugins.always_open_pdf_externally\": True #It will not show PDF directly in chrome\n",
    "            }\n",
    "        )\n",
    "        driver = webdriver.Chrome(options=chrome_options)\n",
    "        #driver = webdriver.Chrome()\n",
    "        driver.implicitly_wait(10) # # it is time in seconds to wait for webpage to upload all its elements\n",
    "        driver.get(\"https://www.academia.edu/login\")\n",
    "        elem2=driver.find_element_by_xpath(\"//input[@type='email']\")\n",
    "        elem2.send_keys('please@enter.youremail')\n",
    "        elem2=driver.find_element_by_xpath(\"//input[@type='password']\")\n",
    "        elem2.send_keys('password')\n",
    "        elem2=driver.find_element_by_xpath(\"//input[@type='submit']\")\n",
    "        elem2.submit()\n",
    "        elem2=driver.find_element_by_xpath(\"//input[@type='text']\")\n",
    "        elem2.send_keys(data['Title'][j])\n",
    "        elem2=driver.find_element_by_xpath(\"//button[@class='AutoCompleteResults-ViewAllButton-cls2-2k3Q AutoCompleteResults-ViewAllButton-cls1-1Cul']\")\n",
    "        elem2.click()\n",
    "        elem3=driver.find_element_by_xpath(\"//div[@class='work-card--wrapper']/a/div\")\n",
    "        if str(elem3.text).lower()==str(data['Title'][j]).lower():\n",
    "            elem3=WebDriverWait(driver, 15).until(EC.presence_of_element_located((By.XPATH, \"//div[@class='work-card--wrapper']/div\")))\n",
    "            elem3.click()\n",
    "            elem4= elem3.find_element_by_xpath(\"//div[@class='download-button--wrapper']/a\")\n",
    "            elem5=driver.find_element_by_class_name('work-card--action-button')\n",
    "            elem5.click()\n",
    "            elem4= driver.find_element_by_xpath(\"//div[@style='width: 100%;']/button\")\n",
    "            elem4.click()\n",
    "            pdf.append(data['Title'][j])\n",
    "        else:\n",
    "            nopdf.append(data['Title'][j])\n",
    "            record.append(data['Record No.'][i])\n",
    "            #print('string no matched')\n",
    "            #print(data['Title'][j])\n",
    "            driver.close()\n",
    "            pass\n",
    "    except NoSuchElementException:\n",
    "        #print(data['Title'][j])\n",
    "        nopdf.append(data['Title'][j])\n",
    "        record.append(data['Record No.'][i])\n",
    "        driver.close()\n"
   ]
  },
  {
   "cell_type": "code",
   "execution_count": 6,
   "metadata": {},
   "outputs": [],
   "source": [
    "data = pd.DataFrame({'Record No.':record, 'Title': nopdf})\n",
    "data.to_excel('academia.xlsx', index=None)"
   ]
  },
  {
   "cell_type": "markdown",
   "metadata": {},
   "source": [
    "### Note: Webpages can be updated with time. So you need to keep track of the elements that you are using in selenium modules. "
   ]
  },
  {
   "cell_type": "markdown",
   "metadata": {},
   "source": [
    "### Reference:"
   ]
  },
  {
   "cell_type": "markdown",
   "metadata": {},
   "source": [
    "* Sagar Shivaji Salunke. 2014. Selenium Webdriver in Python: Learn with Examples (1st. ed.). Create Space Independent Publishing Platform, North Charleston, SC, USA."
   ]
  }
 ],
 "metadata": {
  "kernelspec": {
   "display_name": "Python 3",
   "language": "python",
   "name": "python3"
  },
  "language_info": {
   "codemirror_mode": {
    "name": "ipython",
    "version": 3
   },
   "file_extension": ".py",
   "mimetype": "text/x-python",
   "name": "python",
   "nbconvert_exporter": "python",
   "pygments_lexer": "ipython3",
   "version": "3.7.6"
  }
 },
 "nbformat": 4,
 "nbformat_minor": 4
}
