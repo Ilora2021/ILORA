{
 "cells": [
  {
   "cell_type": "markdown",
   "metadata": {},
   "source": [
    "# Scripts to reach literature source from semantic scholar and google search box to download literatures manually."
   ]
  },
  {
   "cell_type": "code",
   "execution_count": 2,
   "metadata": {},
   "outputs": [],
   "source": [
    "from selenium.webdriver.common.by import By\n",
    "from selenium.webdriver.support.ui import WebDriverWait\n",
    "from selenium.webdriver.support import expected_conditions as EC\n",
    "from selenium import webdriver\n",
    "from selenium.webdriver.common.keys import Keys\n",
    "from selenium.common.exceptions import NoSuchElementException\n",
    "from selenium import webdriver\n",
    "from selenium.webdriver.firefox.options import Options\n",
    "from selenium import webdriver\n",
    "from selenium.webdriver.common.action_chains import ActionChains\n",
    "from selenium.webdriver.chrome.options import Options\n",
    "from selenium.webdriver.common.by import By\n",
    "from selenium.common.exceptions import TimeoutException\n",
    "options = Options()\n"
   ]
  },
  {
   "cell_type": "code",
   "execution_count": 3,
   "metadata": {},
   "outputs": [],
   "source": [
    "# The 'academia.xlsx' consist of List of remaining titles of literatures that have not been downloaded from researchgate and academia.edu.\n",
    "import pandas as pd\n",
    "data= pd.read_excel('academia.xlsx')"
   ]
  },
  {
   "cell_type": "markdown",
   "metadata": {},
   "source": [
    "# Semantic Scholar"
   ]
  },
  {
   "cell_type": "code",
   "execution_count": 4,
   "metadata": {},
   "outputs": [],
   "source": [
    "nopdf=[]\n",
    "record=[]\n",
    "for i in range(0, len(data)):\n",
    "    try:\n",
    "        #driver = webdriver.Chrome()\n",
    "        download_dir=r'directory\\to\\download\\pdfs'\n",
    "        chrome_options.add_experimental_option('prefs',  {\n",
    "            \"download.default_directory\": download_dir,\n",
    "            \"download.prompt_for_download\": False,\n",
    "            \"download.directory_upgrade\": True,\n",
    "            \"plugins.always_open_pdf_externally\": True #It will not show PDF directly in chrome\n",
    "            }\n",
    "        )\n",
    "        driver = webdriver.Chrome(options=chrome_options)\n",
    "        #driver = webdriver.Chrome()\n",
    "        driver.implicitly_wait(10) # it is time in seconds to wait for webpage to upload all its elements\n",
    "        driver.get(\"https://www.semanticscholar.org/\")\n",
    "        elem1=driver.find_element_by_xpath(\"//input[@type='search']\")\n",
    "        elem1.clear()\n",
    "        elem1.send_keys(data['Title'][i])\n",
    "        elem2=driver.find_element_by_xpath(\"//button[@aria-label='Submit']\")\n",
    "        elem2.submit()\n",
    "        elem3=driver.find_element_by_xpath(\"//div[@data-selenium-selector='paper-badge-open_access']\")\n",
    "        elem3.click()\n",
    "    except NoSuchElementException:\n",
    "        #print(\"an exception occurred\", data['Title'][i])\n",
    "        nopdf.append(data['Title'][i])\n",
    "        record.append(data['Record No.'][i])\n",
    "    else:\n",
    "        elem3.click()\n",
    "\n"
   ]
  },
  {
   "cell_type": "code",
   "execution_count": 5,
   "metadata": {},
   "outputs": [],
   "source": [
    "data = pd.DataFrame({'Record No.':record, 'Title': nopdf})"
   ]
  },
  {
   "cell_type": "markdown",
   "metadata": {},
   "source": [
    "# Google Scholar"
   ]
  },
  {
   "cell_type": "code",
   "execution_count": 6,
   "metadata": {},
   "outputs": [],
   "source": [
    "for i in range(0,len(data)):\n",
    "    download_dir=r'directory\\to\\download\\pdfs'\n",
    "    chrome_options = Options()\n",
    "    chrome_options.add_experimental_option('prefs',  {\n",
    "        \"download.default_directory\": download_dir,\n",
    "        \"download.prompt_for_download\": False,\n",
    "        \"download.directory_upgrade\": True,\n",
    "        \"plugins.always_open_pdf_externally\": True #It will not show PDF directly in chrome\n",
    "        }\n",
    "    )\n",
    "    driver = webdriver.Chrome(options=chrome_options)\n",
    "    driver.get(\"https://google.com/\")\n",
    "    elem1=WebDriverWait(driver, 120).until(EC.presence_of_element_located((By.XPATH, \"//input[@title='Search']\")))\n",
    "    elem1.send_keys(data['Title'][i])\n",
    "    elem2=WebDriverWait(driver, 120).until(EC.presence_of_element_located((By.XPATH, \"//input[@name='btnK']\")))\n",
    "    elem2.submit()"
   ]
  },
  {
   "cell_type": "markdown",
   "metadata": {},
   "source": [
    "### Note: Webpages can be updated with time. So you need to keep track of the elements that you are using in selenium modules. "
   ]
  }
 ],
 "metadata": {
  "kernelspec": {
   "display_name": "Python 3",
   "language": "python",
   "name": "python3"
  },
  "language_info": {
   "codemirror_mode": {
    "name": "ipython",
    "version": 3
   },
   "file_extension": ".py",
   "mimetype": "text/x-python",
   "name": "python",
   "nbconvert_exporter": "python",
   "pygments_lexer": "ipython3",
   "version": "3.7.6"
  }
 },
 "nbformat": 4,
 "nbformat_minor": 4
}
